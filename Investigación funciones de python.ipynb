{
 "cells": [
  {
   "cell_type": "markdown",
   "metadata": {},
   "source": [
    "# Alan Kenny Hurtarte Siguenza\n",
    "## 19000590\n",
    "---"
   ]
  },
  {
   "cell_type": "markdown",
   "metadata": {},
   "source": [
    "# Tarea 1\n",
    "---"
   ]
  },
  {
   "cell_type": "markdown",
   "metadata": {},
   "source": [
    "## Funciones en Python\n",
    "### Que es\n",
    "\n",
    "R: Una función es un bloque de codigo con un nombre especifico y unico por ambiente, que puede o no recibir parametros. Esta compuesto por una serie de lineas de condigo que pueden o no retornar algo.\n",
    "\n",
    "### Ejemplo"
   ]
  },
  {
   "cell_type": "code",
   "execution_count": 47,
   "metadata": {},
   "outputs": [
    {
     "name": "stdout",
     "output_type": "stream",
     "text": [
      "2019-02-10 14:23:10.993302\n"
     ]
    }
   ],
   "source": [
    "import datetime\n",
    "def getTodayDate():\n",
    "    \"\"\"\"Return the date of today \"\"\"\n",
    "    return datetime.datetime.now()\n",
    "\n",
    "print(getTodayDate())"
   ]
  },
  {
   "cell_type": "markdown",
   "metadata": {},
   "source": [
    "## Parametros posicionales\n",
    "### Que es\n",
    "R: al llamar una función se pueden enviar los argumentos necesarios en orden como fueron definidos, asi como se hace en cualquier otro lenguaje. En python se necesitan diferenciar gracias al hecho de poder enviar parametros en la llamada de una función por nombre.\n",
    "\n",
    "### Ejemplo"
   ]
  },
  {
   "cell_type": "code",
   "execution_count": 48,
   "metadata": {},
   "outputs": [
    {
     "name": "stdout",
     "output_type": "stream",
     "text": [
      "Hello Axl Rose\n"
     ]
    }
   ],
   "source": [
    "def greeting(first_name, last_name):\n",
    "    print(\"Hello %s %s\" %(first_name, last_name));\n",
    "    \n",
    "greeting('Axl', 'Rose') #position parameters"
   ]
  },
  {
   "cell_type": "markdown",
   "metadata": {},
   "source": [
    "## Parametros nombrados\n",
    "### Que es\n",
    "R: Como se mencion en parametros posiciones, al llamar una funcion se pueden enviar los parametros por nombre, no importando la posición en que fueron definidos. Usando la misma función de greeting se muestra su funcionamiento en el ejemlo\n",
    "\n",
    "### Ejemplo"
   ]
  },
  {
   "cell_type": "code",
   "execution_count": 49,
   "metadata": {},
   "outputs": [
    {
     "name": "stdout",
     "output_type": "stream",
     "text": [
      "Hello Rocky Balboa\n"
     ]
    }
   ],
   "source": [
    "greeting(last_name = 'Balboa', first_name = 'Rocky')"
   ]
  },
  {
   "cell_type": "markdown",
   "metadata": {},
   "source": [
    "## Retorno de multiples valores\n",
    "### Que es\n",
    "R: Una función puede o no retornar valor. Para retornar algo se utiliza la sentencia `return`. Python permite retornar multiples valores separados por coma. \n",
    "\n",
    "### Ejemplo"
   ]
  },
  {
   "cell_type": "code",
   "execution_count": 50,
   "metadata": {},
   "outputs": [
    {
     "name": "stdout",
     "output_type": "stream",
     "text": [
      "Radio: 5.000000\n",
      "Area: 157.079633\n"
     ]
    }
   ],
   "source": [
    "import math\n",
    "class Circle:\n",
    "    radio = 5\n",
    "    area = 2*math.pi*(5**2)\n",
    "    \n",
    "    def getAttributes(self):\n",
    "        # Return multiples values\n",
    "        return (self.radio, self.area)\n",
    "    \n",
    "c = Circle()\n",
    "radio, area = c.getAttributes()\n",
    "print('Radio: %f' %(radio))\n",
    "print('Area: %f' %(area))"
   ]
  },
  {
   "cell_type": "markdown",
   "metadata": {},
   "source": [
    "## Funciones como objetos y como parametros de otras funciones\n",
    "### Que es\n",
    "Todas las funciones son objetos en Python. Cada función puede tener su propios atributos y metodos internos.\n",
    "\n",
    "\n",
    "El retorno de una función puede ser usado como para parametro en otra. También se pueden enviar métodos como parametros para ser ejecutados dentro de la función que lo espera.\n",
    "### Ejemplo"
   ]
  },
  {
   "cell_type": "code",
   "execution_count": 51,
   "metadata": {},
   "outputs": [
    {
     "name": "stdout",
     "output_type": "stream",
     "text": [
      "Hello Bruno Diaz\n"
     ]
    }
   ],
   "source": [
    "def funAsObject():\n",
    "    return 'foo'\n",
    "\n",
    "dir(funAsObject)\n",
    "\n",
    "def method1(getName):\n",
    "    print('Hello %s' %getName())\n",
    "    \n",
    "def method2():\n",
    "    return 'Bruno Diaz'\n",
    "\n",
    "method1(method2)"
   ]
  },
  {
   "cell_type": "markdown",
   "metadata": {},
   "source": [
    "## Funciones anonimas o lambda\n",
    "### Que es\n",
    "Las funciones pueden ser anonimas en python, reciben el nombre de `lambda`. La carateristica es que deben tener una sola expresión en vez de un bloque de acciones.\n",
    "### Ejemplo"
   ]
  },
  {
   "cell_type": "code",
   "execution_count": 52,
   "metadata": {},
   "outputs": [
    {
     "name": "stdout",
     "output_type": "stream",
     "text": [
      "False\n",
      "True\n"
     ]
    }
   ],
   "source": [
    "checkIfNumberIsPair = lambda num : num % 2 == 0\n",
    "print(checkIfNumberIsPair(3))\n",
    "print(checkIfNumberIsPair(4))\n"
   ]
  },
  {
   "cell_type": "markdown",
   "metadata": {},
   "source": [
    "# Referencia\n",
    "* The Python Software Foundation. More Control Flow Tools. [online]. Disponible en: https://docs.python.org/3/tutorial/controlflow.html#defining-functions. [Accedido en 10/02/2019]\n",
    "* The Python Software Foundation. Expressions. [online]. Disponible en: https://docs.python.org/3/reference/expressions.html#grammar-token-positional-arguments. [Accedido en 10/02/2019]\n",
    "* Covantec R.L.. Funciones. [online]. Disponible en: https://entrenamiento-python-basico.readthedocs.io/es/latest/leccion5/funciones.html. [Accedido en 10/02/2019]\n",
    "* Covantec R.L.. Funciones avanzadas. [online]. Disponible en: https://entrenamiento-python-basico.readthedocs.io/es/latest/leccion5/funciones_avanzadas.html#funciones-anonimas\n",
    "* José Luis Chiquete Valdivieso. Funciones. [online]. Disponible en: https://pythonista.io/cursos/py101/funciones. [Accedido en 10/02/2019]"
   ]
  }
 ],
 "metadata": {
  "kernelspec": {
   "display_name": "Python 3",
   "language": "python",
   "name": "python3"
  },
  "language_info": {
   "codemirror_mode": {
    "name": "ipython",
    "version": 3
   },
   "file_extension": ".py",
   "mimetype": "text/x-python",
   "name": "python",
   "nbconvert_exporter": "python",
   "pygments_lexer": "ipython3",
   "version": "3.7.1"
  }
 },
 "nbformat": 4,
 "nbformat_minor": 2
}
